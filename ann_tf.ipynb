{
 "cells": [
  {
   "cell_type": "code",
   "execution_count": 6,
   "metadata": {},
   "outputs": [
    {
     "ename": "ImportError",
     "evalue": "No module named util",
     "output_type": "error",
     "traceback": [
      "\u001b[0;31m---------------------------------------------------------------------------\u001b[0m",
      "\u001b[0;31mImportError\u001b[0m                               Traceback (most recent call last)",
      "\u001b[0;32m<ipython-input-6-467d77c6e317>\u001b[0m in \u001b[0;36m<module>\u001b[0;34m()\u001b[0m\n\u001b[1;32m      3\u001b[0m \u001b[0;32mimport\u001b[0m \u001b[0mmatplotlib\u001b[0m\u001b[0;34m.\u001b[0m\u001b[0mpyplot\u001b[0m \u001b[0;32mas\u001b[0m \u001b[0mplt\u001b[0m\u001b[0;34m\u001b[0m\u001b[0m\n\u001b[1;32m      4\u001b[0m \u001b[0;34m\u001b[0m\u001b[0m\n\u001b[0;32m----> 5\u001b[0;31m \u001b[0;32mfrom\u001b[0m \u001b[0mutil\u001b[0m \u001b[0;32mimport\u001b[0m \u001b[0mgetData\u001b[0m\u001b[0;34m,\u001b[0m \u001b[0mgetBinaryData\u001b[0m\u001b[0;34m,\u001b[0m \u001b[0my2indicator\u001b[0m\u001b[0;34m,\u001b[0m \u001b[0merror_rate\u001b[0m\u001b[0;34m,\u001b[0m \u001b[0minit_weight_and_bias\u001b[0m\u001b[0;34m\u001b[0m\u001b[0m\n\u001b[0m\u001b[1;32m      6\u001b[0m \u001b[0;32mfrom\u001b[0m \u001b[0msklearn\u001b[0m\u001b[0;34m.\u001b[0m\u001b[0mutils\u001b[0m \u001b[0;32mimport\u001b[0m \u001b[0mshuffle\u001b[0m\u001b[0;34m\u001b[0m\u001b[0m\n\u001b[1;32m      7\u001b[0m \u001b[0;34m\u001b[0m\u001b[0m\n",
      "\u001b[0;31mImportError\u001b[0m: No module named util"
     ]
    }
   ],
   "source": [
    "import numpy as np\n",
    "import tensorflow as tf \n",
    "import matplotlib.pyplot as plt\n",
    "\n",
    "from util import getData, getBinaryData, y2indicator, error_rate, init_weight_and_bias \n",
    "from sklearn.utils import shuffle\n",
    "\n",
    "class HiddenLayer(object):\n",
    "    def __init__(self, M1,M2, an_id):\n",
    "        self.id = an_id \n",
    "        self.M1 = M1\n",
    "        self.M2 = M2\n",
    "        w, b = init_weight_and_bias(M1, M2)\n",
    "        self.W = tf.Variable(W.astype(np.float32))\n",
    "        self.b = tf.Variable(b.astype(np.float32))\n",
    "        self.params = [self.W, self.b]\n",
    "        \n",
    "    def forward(self, X):\n",
    "        return tf.nn.relu(tf.matmul(X, self.W) + self.b)\n",
    "    \n",
    "class ANN(object):\n",
    "    def __init__(self, hidden_layer_sizes):\n",
    "        self.hidden_layer_sizes = hidden_layer_sizes\n",
    "    \n",
    "    def fit(self, X, Y, learning_rate=10e-7, mu=0.99, decay=0.999, reg=10e-3, epochs=400, batch_sz=100, show_fig=False):\n",
    "        K = len(set(Y))\n",
    "        X,Y = shuffle(X,Y)\n",
    "        X = X.astype(np.float32)\n",
    "        Y = y2indicator(Y).astype(np.float32) \n",
    "        Xvalid, Yvalid = X[-1000:], Y[-1000:]\n",
    "        Yvalid_flat = np.argmax(Yvalid, axis=1)\n",
    "        X, Y = X[:-1000], Y[:-1000]\n",
    "        \n",
    "        N,D = X.shape\n",
    "        self.hidden_layers = []\n",
    "        M1 = D\n",
    "        count = 0 \n",
    "        for M2 in self.hidden_layer_sizes:\n",
    "            h = HiddenLayer(M1, M2, count)\n",
    "            self.hidden_layers.append(h)\n",
    "            M1 = M2\n",
    "            count += 1\n",
    "        W, b = init_weight_and_bias(M1, K)\n",
    "        self.W = tf.Variable(W.astype(np.float32))\n",
    "        self.b = tf.Variable(b.astype(np.float32))\n",
    "        \n",
    "        self.params = [self.W, self.b]\n",
    "        for h in self.hidden_layers:\n",
    "            self.params  += h.params\n",
    "        \n",
    "        tfX = tf.placeholder(tf.float32, shape=(None, D), name='X')\n",
    "        tfT = tf.placeholder(tf.float32, shape=(None, K), name='T')\n",
    "        act = self.forward(tfX)\n",
    "        \n",
    "        rcost = reg*sum([tf.nn.l2_loss(p) for p in self.params])\n",
    "        cost = tf.reduce_mean(tf.nn.softmax_cross_entropy_with_logits(act, tfT)) + rcost\n",
    "        prediction = self.predict(tfX)\n",
    "        train_op = tf.train.RMSPropOptimizer(learning_rate, decay=decay, momentum=mu).minimize(cost)\n",
    "        \n",
    "        n_batches = N / batch_sz\n",
    "        costs = [] \n",
    "        init = tf.initialize_all_variables()\n",
    "        with tf.Session() as session:\n",
    "            session.run(init)\n",
    "            for i in xrange(epochs):\n",
    "                X, Y = shuffle(X, Y)\n",
    "                for j in xrange(n_batches):\n",
    "                    Xbatch = X[j*batch_sz:(j*batch_sz + batch_sz)]\n",
    "                    Ybatch = Y[j*batch_sz:(j*batch_sz + batch_sz)]\n",
    "                    \n",
    "                    session.run(train_op, feed_dict={tfX: Xbatch, tfT: Ybatch})\n",
    "                    \n",
    "                    if j % 20 == 0:\n",
    "                        c = session.run(cost, feed_dict={tfX: Xvalid, tfT: Yvalid})\n",
    "                        costs.append(c)\n",
    "                        \n",
    "                        p = session.run(prediction, feed_dict={tfX: Xvalid, tfT: Yvalid})\n",
    "                        e = error_rate(Yvalid_flat, p)\n",
    "                        print \"i:\", i, \"j:\", j, \"nb:\", n_batches, \"cost:\", c, \"error_rate:\", e\n",
    "                        \n",
    "                        \n",
    "        if show_fig:\n",
    "            plt.plot(costs)\n",
    "            plt.show()\n",
    "            \n",
    "    def forward(self, X):\n",
    "        Z = X\n",
    "        for h in self.hidden_layers:\n",
    "            Z = h.forward(Z)\n",
    "        return tf.matmul(Z, self.W) + self.b\n",
    "    \n",
    "    def predict(self, X):\n",
    "        act = self.forward(X)\n",
    "        return tf.argmax(act, 1)\n",
    "        \n",
    "            \n",
    "            \n",
    "def main():\n",
    "    X, Y = getData()\n",
    "    \n",
    "    model = ANN([2000, 1000, 500])\n",
    "    model.fit(X,Y, show_fig=True)\n",
    "    \n",
    "if __name__ == '__main__':\n",
    "    main()"
   ]
  },
  {
   "cell_type": "code",
   "execution_count": null,
   "metadata": {
    "collapsed": true
   },
   "outputs": [],
   "source": []
  },
  {
   "cell_type": "code",
   "execution_count": null,
   "metadata": {
    "collapsed": true
   },
   "outputs": [],
   "source": []
  },
  {
   "cell_type": "code",
   "execution_count": null,
   "metadata": {
    "collapsed": true
   },
   "outputs": [],
   "source": []
  }
 ],
 "metadata": {
  "kernelspec": {
   "display_name": "Python 2",
   "language": "python",
   "name": "python2"
  },
  "language_info": {
   "codemirror_mode": {
    "name": "ipython",
    "version": 2
   },
   "file_extension": ".py",
   "mimetype": "text/x-python",
   "name": "python",
   "nbconvert_exporter": "python",
   "pygments_lexer": "ipython2",
   "version": "2.7.13"
  }
 },
 "nbformat": 4,
 "nbformat_minor": 2
}
